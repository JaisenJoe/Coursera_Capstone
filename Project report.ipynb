{
 "cells": [
  {
   "cell_type": "markdown",
   "metadata": {
    "collapsed": true
   },
   "source": [
    "# CAPSTONE PROJECT: BATTLE OF THE NEIGHBORHOODS"
   ]
  },
  {
   "cell_type": "markdown",
   "metadata": {},
   "source": [
    "# A Recommender System for Wholesaler"
   ]
  },
  {
   "cell_type": "markdown",
   "metadata": {},
   "source": [
    "## I. PURPOSE\n",
    "\n",
    "This document provides the details of my final peer reviewed assignment for the IBM Data Science Professional Certificate program – Coursera Capstone."
   ]
  },
  {
   "cell_type": "markdown",
   "metadata": {},
   "source": [
    "## II. INTRODUCTION\n",
    "\n",
    "There is a wholesaler in one of the boroughs of Toronto (North York). This wholesaler supplies to places such as: Different types of Restaurants, Bakery, Breakfast Spot, Brewery and Café with fresh and high-quality groceries. The wholesaler wants to build a warehouse for the groceries it buys from villagers and farmers inside the borough, so that they will support more customers and also bring better \"Quality of Service\" to the old customers.\n",
    "\n",
    "For example, if the warehouse is close to those old and famous restaurants, then the vegetables and other groceries would be delivered to the restaurant in the right time and there would be no delay so the restaurant cooks can start their job from the morning and the Quality of Service will be high and this contractor will gain more reputation and income.\n",
    "\n",
    "The wholesaler should build this warehouse where it is closest to its customers in order to minimize the cost of transpotation.\n",
    "\n",
    "Which neighborhood (in that borough) would be a better choice for the wholesaler to build the warehouse in that neighborhood. Finding the right neighborhood is our mission and our recommender system will provide this wholesaler with a sorted list of neighborhoods in which the first elemnt of the list will be the best suggested neighborhood"
   ]
  },
  {
   "cell_type": "markdown",
   "metadata": {},
   "source": [
    "## III. DATA ACQUISITION\n",
    "\n",
    "This demonstration will make use of the following data sources:\n",
    "\n",
    "We will need geo-locational information about that specific borough and the neighborhoods in that borough. This info is obtained from Wikipedia: https://en.wikipedia.org/wiki/List_of_postal_codes_of_Canada:_M\n",
    "\n",
    "We will need data about different venues in different neighborhoods of that specific borough. \n",
    "In order to gain that information we will use \"Foursquare\" locational information."
   ]
  },
  {
   "cell_type": "markdown",
   "metadata": {},
   "source": [
    "## IV. METHODOLOGY\n",
    "\n",
    "1. We will need geo-locational information about that specific borough and the neighborhoods in that borough. We specifically need the latitude and longitude numbers of that borough. We assume that it is \"North York\" in Toronto. This is easily provided for us by the wholesaler, because the wholesaler has already decided about the borough. The Postal Codes that fall into that borough (North York) would also be sufficient fo us. In fact we will first find neighborhoods inside North York by their corresponding Postal Codes.\n",
    "\n",
    "\n",
    "2. We will need data about different venues in different neighborhoods of that specific borough. In order to gain that information we will use \"Foursquare\" locational information. By locational information for each venue we mean basic and advanced information about that venue. For example there is a venue in one of the neighborhoods. As basic information, we can obtain its precise latitude and longitude and also its distance from the center of the neighborhood. But we are looking for advanced information such as the category of that venue and whether this venue is a popular one in its category or maybe the average price of the services of this venue. A typical request from Foursquare will provide us with the following information:\n",
    "[Postal Code] [Neighborhood(s)] [Neighborhood Latitude] [Neighborhood Longitude] [Venue] [Venue Summary] [Venue Category] [Distance (meter)]\n",
    "\n",
    "Data Cleanup and re-grouping. The retrieved table contains some un-wanted entries and needs some cleanup.\n",
    "\n",
    "The following tasks will be performed:\n",
    "\n",
    "* Drop/ignore cells with missing data.\n",
    "* Use most current data record.\n",
    "* Fix data types.\n",
    "\n",
    "\n"
   ]
  },
  {
   "cell_type": "markdown",
   "metadata": {},
   "source": [
    "## V. Segmenting and Clustering\n",
    "\n",
    "### Part 1: Identifying Neighborhoods inside \"North York\"¶\n",
    "\n",
    "We will use Postal Codes of different regions inside Scarborough to find the list of neighborhoods. We will essentially obtain our information from https://en.wikipedia.org/wiki/List_of_postal_codes_of_Canada:_M and then process the table inside this site. Images from dataframes and also from maps will be provided in the presentation. Here we only present our strategy and how we got the mission accomplished.\n",
    "\n",
    "### Part 2: Connecting to Foursquare and Retrieving Locational Data for Each Venue in Every Neighborhood\n",
    "\n",
    "After finding the list of neighborhoods, we then connect to the Foursquare API to gather information about venues inside each and every neighborhood. For each neighborhood, we have chosen the radius to be 1000 meter. It means that we have asked Foursquare to find venues that are at most 1000 meter far from the center of the neighborhood. (I think distance is measured by latitude and longitude of venues and neighborhoods, and it is not the walking distance for venues.)\n",
    "\n",
    "### Part 3: Processing the Retrieved Data and Creating a DataFrome for All the Venues inside the North York\n",
    "\n",
    "When the data is completely gathered, we will perform processing on that raw data to find our desirable features for each venue. Our main feature is the category of that venue. After this stage, the column \"Venue's Category\" wil be One-hot encoded and different venues will have different feature-columns. After On-hot encoding we will integrate all restaurant columns to one column \"Total Restaurants\" and all food joint columns to \"Total Joints\" column. We assumed that different resaturants use the Same raw groceries. This assumption is made for simplicity and due to not having a very detailed dataset about different venues.\n",
    "Now, the dataset is fully ready to be used for machine learning (and statistical analysis) purposes.\n",
    "\n",
    "### Part 4: Applying one of Machine Learning Techniques (K-Means Clustering)\n",
    "\n",
    "Here we cluster neighborhoods via K-means clustering method. We think that 5 clusters is enough and can cover the complexity of our problem. After clustering we will update our dataset and create a column representing the group for each neighborhood."
   ]
  },
  {
   "cell_type": "markdown",
   "metadata": {},
   "source": [
    "## VI. RESULTS \n",
    "\n",
    "Now, we focus on the centers of clusters and compare them for their \"Total Restaurants\" and their \"Total Joints\". The group which its center has the highest \"Total Sum\" will be our best recommendation to the contractor. {Note: Total Sum = Total Restaurants + Total Joints + Other Venues.} This algorithm although is pretty straightforward yet is strongly powerful.\n",
    "\n",
    "Based on this analysis, the best recommended neighborhood will be:\n",
    "\n",
    "### Postal Code: 'M2N',\n",
    "### Neighborhood: 'Willowdale South',\n",
    "### Neighborhood Latitude: 43.7701199,\n",
    "### Neighborhood Longitude: -79.40849279999998"
   ]
  },
  {
   "cell_type": "markdown",
   "metadata": {},
   "source": [
    "## VII. Discussion and Conclusion\n",
    "\n",
    "The wholesaler should build this warehouse where it is closest to its customers in order to minimize the cost of transpotation.\n",
    "\n",
    "<b>Willowdale South</b> neighborhood (in that borough) would be a better choice for the wholesaler to build the warehouse in that neighborhood. Finding the right neighborhood was our mission and our recommender system provided this wholesaler with a sorted list of neighborhoods in which the first elemnt of the list was the best suggested neighborhood"
   ]
  },
  {
   "cell_type": "code",
   "execution_count": null,
   "metadata": {},
   "outputs": [],
   "source": []
  }
 ],
 "metadata": {
  "kernelspec": {
   "display_name": "Python 3.6",
   "language": "python",
   "name": "python3"
  },
  "language_info": {
   "codemirror_mode": {
    "name": "ipython",
    "version": 3
   },
   "file_extension": ".py",
   "mimetype": "text/x-python",
   "name": "python",
   "nbconvert_exporter": "python",
   "pygments_lexer": "ipython3",
   "version": "3.6.8"
  }
 },
 "nbformat": 4,
 "nbformat_minor": 1
}
