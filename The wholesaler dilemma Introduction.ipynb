{
 "cells": [
  {
   "cell_type": "markdown",
   "metadata": {
    "collapsed": true
   },
   "source": [
    "# A Recommender System for a Wholesaler"
   ]
  },
  {
   "cell_type": "markdown",
   "metadata": {},
   "source": [
    "## Part 1: Introduction/Business Problem\n",
    "\n",
    "There is a wholesaler in one of the boroughs of Toronto (North York). This wholesaler supplies to places such as: Different types of Restaurants, Bakery, Breakfast Spot, Brewery and Café with fresh and high-quality groceries. The wholesaler wants to build a warehouse for the groceries it buys from villagers and farmers inside the borough, so that they will support more customers and also bring better \"Quality of Service\" to the old customers.\n",
    "\n",
    "For example, if the warehouse is close to those old and famous restaurants, then the vegetables and other groceries would be delivered to the restaurant in the right time and there would be no delay so the restaurant cooks can start their job from the morning and the Quality of Service will be high and this contractor will gain more reputation and income.\n",
    "\n",
    "The wholesaler should build this warehouse where it is closest to its customers in order to minimize the cost of transpotation.\n",
    "\n",
    "Which neighborhood (in that borough) would be a better choice for the wholesaler to build the warehouse in that neighborhood. Finding the right neighborhood is our mission and our recommender system will provide this wholesaler with a sorted list of neighborhoods in which the first elemnt of the list will be the best suggested neighborhood"
   ]
  },
  {
   "cell_type": "markdown",
   "metadata": {},
   "source": [
    "## Part 2: Data\n",
    "\n",
    "1. We will need geo-locational information about that specific borough and the neighborhoods in that borough. We specifically need the latitude and longitude numbers of that borough. We assume that it is \"North York\" in Toronto. This is easily provided for us by the wholesaler, because the wholesaler has already decided about the borough. The Postal Codes that fall into that borough (North York) would also be sufficient fo us. In fact we will first find neighborhoods inside North York by their corresponding Postal Codes.\n",
    "\n",
    "\n",
    "2. We will need data about different venues in different neighborhoods of that specific borough. In order to gain that information we will use \"Foursquare\" locational information. By locational information for each venue we mean basic and advanced information about that venue. For example there is a venue in one of the neighborhoods. As basic information, we can obtain its precise latitude and longitude and also its distance from the center of the neighborhood. But we are looking for advanced information such as the category of that venue and whether this venue is a popular one in its category or maybe the average price of the services of this venue. A typical request from Foursquare will provide us with the following information:\n",
    "\n",
    "\n",
    "[Postal Code] [Neighborhood(s)] [Neighborhood Latitude] [Neighborhood Longitude] [Venue] [Venue Summary] [Venue Category] [Distance (meter)]\n"
   ]
  },
  {
   "cell_type": "code",
   "execution_count": null,
   "metadata": {},
   "outputs": [],
   "source": []
  }
 ],
 "metadata": {
  "kernelspec": {
   "display_name": "Python 3.6",
   "language": "python",
   "name": "python3"
  },
  "language_info": {
   "codemirror_mode": {
    "name": "ipython",
    "version": 3
   },
   "file_extension": ".py",
   "mimetype": "text/x-python",
   "name": "python",
   "nbconvert_exporter": "python",
   "pygments_lexer": "ipython3",
   "version": "3.6.8"
  }
 },
 "nbformat": 4,
 "nbformat_minor": 1
}
